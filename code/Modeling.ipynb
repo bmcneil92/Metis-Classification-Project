{
 "cells": [
  {
   "cell_type": "markdown",
   "metadata": {},
   "source": [
    "# Modeling"
   ]
  },
  {
   "cell_type": "markdown",
   "metadata": {},
   "source": [
    "### Setup"
   ]
  },
  {
   "cell_type": "code",
   "execution_count": 158,
   "metadata": {},
   "outputs": [],
   "source": [
    "import pickle\n",
    "import pandas as pd\n",
    "from sklearn.linear_model import LogisticRegression\n",
    "from sklearn.model_selection import train_test_split\n",
    "from sklearn.metrics import precision_score, recall_score, accuracy_score, roc_auc_score\n",
    "from sklearn.metrics import confusion_matrix\n",
    "from sklearn.preprocessing import StandardScaler\n",
    "from sklearn.metrics import confusion_matrix, classification_report, roc_curve, roc_auc_score, f1_score\n",
    "from sklearn.ensemble import RandomForestClassifier, GradientBoostingClassifier\n",
    "import matplotlib.pyplot as plt\n",
    "\n",
    "\n",
    "\n",
    "\n",
    "df = pickle.load(open(\"mypickle.pickle\", \"rb\"))\n",
    "df.drop('plc', axis=1, inplace = True)\n",
    "\n",
    "def odds_creation(row):\n",
    "    if int(row['winodds']) <= 20:\n",
    "        return 'strong'\n",
    "    if int(row['winodds']) > 20 and int(row['winodds']) <= 50:\n",
    "        return 'fair'\n",
    "    else:\n",
    "        return 'low'\n",
    "    \n",
    "\n",
    "df['odds'] = df.apply(lambda row: odds_creation(row), axis=1)\n",
    "df = pd.get_dummies(df, columns = ['odds'])\n",
    "\n",
    "x_data = df\n",
    "y_data = df['Target_Value']\n",
    "\n",
    "#x_data.drop('Target_Value', axis=1, inplace=True)\n",
    "x_data.drop('declarwt', axis=1, inplace = True)\n",
    "\n",
    "\n"
   ]
  },
  {
   "cell_type": "markdown",
   "metadata": {},
   "source": [
    "\n",
    "\n",
    "### Train Test Split / Validation"
   ]
  },
  {
   "cell_type": "code",
   "execution_count": 115,
   "metadata": {},
   "outputs": [],
   "source": [
    "X, X_test, y, y_test = train_test_split(x_data, y_data, \n",
    "                                                    test_size = 0.21, shuffle=False)\n"
   ]
  },
  {
   "cell_type": "code",
   "execution_count": 116,
   "metadata": {},
   "outputs": [],
   "source": [
    "X_train, X_val, y_train, y_val = train_test_split(X, y, \n",
    "                                                    test_size = 0.10, shuffle=False)\n",
    "\n"
   ]
  },
  {
   "cell_type": "markdown",
   "metadata": {},
   "source": [
    "### Oversampling attempt"
   ]
  },
  {
   "cell_type": "code",
   "execution_count": 117,
   "metadata": {},
   "outputs": [
    {
     "name": "stdout",
     "output_type": "stream",
     "text": [
      "OverSampled Logistic Regression Test Recall: 0.803, F1: 0.473, Test AUC: 0.741\n"
     ]
    },
    {
     "name": "stderr",
     "output_type": "stream",
     "text": [
      "/Users/brandon.mcneil/opt/anaconda3/lib/python3.8/site-packages/sklearn/linear_model/_logistic.py:763: ConvergenceWarning: lbfgs failed to converge (status=1):\n",
      "STOP: TOTAL NO. of ITERATIONS REACHED LIMIT.\n",
      "\n",
      "Increase the number of iterations (max_iter) or scale the data as shown in:\n",
      "    https://scikit-learn.org/stable/modules/preprocessing.html\n",
      "Please also refer to the documentation for alternative solver options:\n",
      "    https://scikit-learn.org/stable/modules/linear_model.html#logistic-regression\n",
      "  n_iter_i = _check_optimize_result(\n"
     ]
    }
   ],
   "source": [
    "\n",
    "\n",
    "import imblearn.over_sampling\n",
    "import numpy as np\n",
    "\n",
    "n_pos = np.sum(y_train == 1)\n",
    "n_neg = np.sum(y_train == 0)\n",
    "\n",
    "ratio = {1 : n_pos * 3, 0 : n_neg} \n",
    "\n",
    "ROS = imblearn.over_sampling.RandomOverSampler(sampling_strategy = ratio, random_state=42) \n",
    "    \n",
    "X_tr_rs, y_tr_rs = ROS.fit_resample(X_train, y_train)\n",
    "\n",
    "\n",
    "\n",
    "lm = LogisticRegression()\n",
    "lm.fit(X_tr_rs, y_tr_rs)\n",
    "\n",
    "print('OverSampled Logistic Regression Test Recall: %.3f, F1: %.3f, Test AUC: %.3f' % \\\n",
    "      (recall_score(y_val, lm.predict(X_val)), f1_score(y_val, lm.predict(X_val)), roc_auc_score(y_val, lm.predict_proba(X_val)[:,1])))\n",
    "\n",
    "\n",
    "\n"
   ]
  },
  {
   "cell_type": "markdown",
   "metadata": {},
   "source": [
    "## Logistic Regressions"
   ]
  },
  {
   "cell_type": "code",
   "execution_count": 118,
   "metadata": {},
   "outputs": [
    {
     "name": "stdout",
     "output_type": "stream",
     "text": [
      "Balanced class weights Logistic Regression Test Recall: 0.784, Precision: 0.341 F1: 0.476, Test AUC: 0.745\n",
      "Balanced oversampling class weights Logistic Regression Test Recall: 0.796, Precision: 0.342 F1: 0.479, Test AUC: 0.745\n",
      "4:1 class weights Logistic Regression Test Recall: 0.822, precision 0.331, F1: 0.472, Test AUC: 0.744\n"
     ]
    }
   ],
   "source": [
    "lr_balanced = LogisticRegression(class_weight='balanced', solver='liblinear')\n",
    "lr_oversamp_balanced = LogisticRegression(class_weight='balanced', solver='liblinear')\n",
    "lr_4x = LogisticRegression(class_weight={1 : 4, 0 : 1}, solver='liblinear')\n",
    "\n",
    "lr_balanced.fit(X_train, y_train)\n",
    "lr_oversamp_balanced.fit(X_tr_rs, y_tr_rs)\n",
    "lr_4x.fit(X_train, y_train)\n",
    "\n",
    "\n",
    "\n",
    "print('Balanced class weights Logistic Regression Test Recall: %.3f, Precision: %.3f F1: %.3f, Test AUC: %.3f' % \\\n",
    "      (recall_score(y_val, lr_balanced.predict(X_val)), precision_score(y_val, lr_balanced.predict(X_val)), f1_score(y_val, lr_balanced.predict(X_val)), roc_auc_score(y_val, lr_balanced.predict_proba(X_val)[:,1])))\n",
    "\n",
    "print('Balanced oversampling class weights Logistic Regression Test Recall: %.3f, Precision: %.3f F1: %.3f, Test AUC: %.3f' % \\\n",
    "      (recall_score(y_val, lr_oversamp_balanced.predict(X_val)), precision_score(y_val, lr_oversamp_balanced.predict(X_val)), f1_score(y_val, lr_oversamp_balanced.predict(X_val)), roc_auc_score(y_val, lr_oversamp_balanced.predict_proba(X_val)[:,1])))\n",
    "\n",
    "lr_4x.fit(X_train, y_train)\n",
    "print('4:1 class weights Logistic Regression Test Recall: %.3f, precision %.3f, F1: %.3f, Test AUC: %.3f' % \\\n",
    "      (recall_score(y_val, lr_4x.predict(X_val)), precision_score(y_val, lr_4x.predict(X_val)), f1_score(y_val, lr_4x.predict(X_val)), roc_auc_score(y_val, lr_4x.predict_proba(X_val)[:,1])))\n",
    "\n",
    "\n"
   ]
  },
  {
   "cell_type": "markdown",
   "metadata": {},
   "source": [
    "## Modeling on the Balanced Model"
   ]
  },
  {
   "cell_type": "code",
   "execution_count": 119,
   "metadata": {},
   "outputs": [
    {
     "data": {
      "text/plain": [
       "Text(0.5, 1.0, 'Precision-Recall Curve')"
      ]
     },
     "execution_count": 119,
     "metadata": {},
     "output_type": "execute_result"
    },
    {
     "data": {
      "image/png": "[encoded data removed]",
      "text/plain": [
       "<Figure size 432x288 with 1 Axes>"
      ]
     },
     "metadata": {
      "needs_background": "light"
     },
     "output_type": "display_data"
    }
   ],
   "source": [
    "from sklearn.metrics import precision_recall_curve\n",
    "decision_function = lr_balanced.decision_function(X_val)\n",
    "\n",
    "precision, recall, treshold = precision_recall_curve(y_val, decision_function)\n",
    "  \n",
    "# Plot the output.\n",
    "plt.plot(treshold, precision[:-1], c ='r', label ='PRECISION')\n",
    "plt.plot(treshold, recall[:-1], c ='b', label ='RECALL')\n",
    "plt.grid()\n",
    "plt.legend()\n",
    "plt.title('Precision-Recall Curve')\n"
   ]
  },
  {
   "cell_type": "markdown",
   "metadata": {},
   "source": [
    "### Setting Threshold"
   ]
  },
  {
   "cell_type": "code",
   "execution_count": 120,
   "metadata": {},
   "outputs": [
    {
     "name": "stdout",
     "output_type": "stream",
     "text": [
      "old precision value: 0.3414239482200647\n",
      "new precision value: 0.5270935960591133\n",
      "0.7843866171003717 0.39776951672862454\n",
      "0.45338983050847464\n"
     ]
    }
   ],
   "source": [
    "df = lr_balanced.decision_function(X_val)\n",
    "predict_actual =  lr_balanced.predict(X_val)\n",
    "\n",
    "precision_score(y_val, predict_actual)\n",
    "\n",
    "# Set the value of decision threshold.\n",
    "decision_teshold = 0.75\n",
    "  \n",
    "# Desired prediction to increase precision value.\n",
    "desired_predict =[]\n",
    "  \n",
    "# Iterate through each value of decision function output\n",
    "# and if  decision score is > than Decision threshold then,\n",
    "# append (1) to the empty list ( desired_prediction) else\n",
    "# append (0).\n",
    "for i in df:\n",
    "    if i<decision_teshold:\n",
    "        desired_predict.append(0)\n",
    "    else:\n",
    "        desired_predict.append(1)\n",
    "\n",
    "# Old Precision Value\n",
    "print(\"old precision value:\", precision_score(y_val, predict_actual))\n",
    "# New precision Value  \n",
    "print(\"new precision value:\", precision_score(y_val, desired_predict))\n",
    "\n",
    "\n",
    "print(recall_score(y_val, predict_actual), recall_score(y_val, desired_predict))\n",
    "print(f1_score(y_val, desired_predict))"
   ]
  },
  {
   "cell_type": "markdown",
   "metadata": {},
   "source": [
    "## Confusion Matrix"
   ]
  },
  {
   "cell_type": "code",
   "execution_count": 207,
   "metadata": {},
   "outputs": [
    {
     "data": {
      "application/vnd.jupyter.widget-view+json": {
       "model_id": "d351b3fda70b4ada80f374d040cf340d",
       "version_major": 2,
       "version_minor": 0
      },
      "text/plain": [
       "interactive(children=(FloatSlider(value=0.5, description='threshold', max=1.0, step=0.02), Output()), _dom_cla…"
      ]
     },
     "metadata": {},
     "output_type": "display_data"
    }
   ],
   "source": [
    "import seaborn as sns\n",
    "def make_confusion_matrix(model, threshold=0.5):\n",
    "    # Predict class 1 if probability of being in class 1 is greater than threshold\n",
    "    # (model.predict(X_test) does this automatically with a threshold of 0.5)\n",
    "    y_predict = (model.predict_proba(X_test)[:, 1] >= threshold)\n",
    "    fraud_confusion = confusion_matrix(y_test, y_predict)\n",
    "    plt.figure(dpi=80)\n",
    "    sns.heatmap(fraud_confusion, cmap=plt.cm.Blues, annot=True, square=True, fmt='d',\n",
    "           xticklabels=['Not Show', 'Show'],\n",
    "           yticklabels=['Not Show', 'Show']);\n",
    "    plt.xlabel('prediction')\n",
    "    plt.ylabel('actual')\n",
    "    \n",
    "#make_confusion_matrix(lm, threshold = .35)\n",
    "\n",
    "\n",
    "from ipywidgets import interactive, FloatSlider\n",
    "\n",
    "interactive(lambda threshold: make_confusion_matrix(lr_balanced, threshold), threshold=(0.0,1.0,0.02))"
   ]
  },
  {
   "cell_type": "markdown",
   "metadata": {},
   "source": [
    "### Random Forest Model"
   ]
  },
  {
   "cell_type": "code",
   "execution_count": 122,
   "metadata": {},
   "outputs": [
    {
     "name": "stdout",
     "output_type": "stream",
     "text": [
      "Random Forest Test Recall: 0.621, precision 0.439, F1: 0.515, Test AUC: 0.749\n"
     ]
    }
   ],
   "source": [
    "from sklearn.model_selection import cross_val_score, cross_val_predict \n",
    "\n",
    "\n",
    "r_forest = RandomForestClassifier(n_estimators=200, max_depth=10,max_features='auto')\n",
    "\n",
    "r_forest.fit(X_tr_rs, y_tr_rs)\n",
    "\n",
    "\n",
    "print('Random Forest Test Recall: %.3f, precision %.3f, F1: %.3f, Test AUC: %.3f' % \\\n",
    "      (recall_score(y_val, r_forest.predict(X_val)), precision_score(y_val, r_forest.predict(X_val)), f1_score(y_val, r_forest.predict(X_val)), roc_auc_score(y_val, r_forest.predict_proba(X_val)[:,1])))\n",
    "\n"
   ]
  },
  {
   "cell_type": "code",
   "execution_count": 123,
   "metadata": {},
   "outputs": [
    {
     "name": "stdout",
     "output_type": "stream",
     "text": [
      "Random Forest Test Recall: 0.684, precision 0.383, F1: 0.491, Test AUC: 0.750\n"
     ]
    }
   ],
   "source": [
    "from sklearn.model_selection import cross_val_score, cross_val_predict \n",
    "\n",
    "\n",
    "r_forest_no_sample = RandomForestClassifier(n_estimators=125, max_depth=10,max_features='auto', class_weight={1 : 4, 0 : 1})\n",
    "\n",
    "r_forest_no_sample.fit(X_train, y_train)\n",
    "\n",
    "\n",
    "print('Random Forest Test Recall: %.3f, precision %.3f, F1: %.3f, Test AUC: %.3f' % \\\n",
    "      (recall_score(y_val, r_forest_no_sample.predict(X_val)), precision_score(y_val, r_forest_no_sample.predict(X_val)), f1_score(y_val, r_forest_no_sample.predict(X_val)), roc_auc_score(y_val, r_forest_no_sample.predict_proba(X_val)[:,1])))\n"
   ]
  },
  {
   "cell_type": "code",
   "execution_count": 124,
   "metadata": {},
   "outputs": [],
   "source": [
    "import pandas as pd\n",
    "important_features = pd.Series(data=r_forest.feature_importances_,index=X_train.columns)\n",
    "important_features.sort_values(ascending=False,inplace=True)"
   ]
  },
  {
   "cell_type": "code",
   "execution_count": 208,
   "metadata": {},
   "outputs": [
    {
     "data": {
      "application/vnd.jupyter.widget-view+json": {
       "model_id": "1922d2d0968847f7b89277a429bf4966",
       "version_major": 2,
       "version_minor": 0
      },
      "text/plain": [
       "interactive(children=(FloatSlider(value=0.5, description='threshold', max=1.0, step=0.02), Output()), _dom_cla…"
      ]
     },
     "metadata": {},
     "output_type": "display_data"
    }
   ],
   "source": [
    "interactive(lambda threshold: make_confusion_matrix(r_forest, threshold), threshold=(0.0,1.0,0.02))"
   ]
  },
  {
   "cell_type": "markdown",
   "metadata": {},
   "source": [
    "## XGBoost Model"
   ]
  },
  {
   "cell_type": "code",
   "execution_count": 126,
   "metadata": {},
   "outputs": [
    {
     "name": "stderr",
     "output_type": "stream",
     "text": [
      "/Users/brandon.mcneil/opt/anaconda3/lib/python3.8/site-packages/xgboost/sklearn.py:888: UserWarning: The use of label encoder in XGBClassifier is deprecated and will be removed in a future release. To remove this warning, do the following: 1) Pass option use_label_encoder=False when constructing XGBClassifier object; and 2) Encode your labels (y) as integers starting with 0, i.e. 0, 1, 2, ..., [num_class - 1].\n",
      "  warnings.warn(label_encoder_deprecation_msg, UserWarning)\n"
     ]
    }
   ],
   "source": [
    "import xgboost as xgb\n",
    "gbm = xgb.XGBClassifier( \n",
    "                        n_estimators=30000,\n",
    "                        max_depth=4,\n",
    "                        objective='binary:logistic', #new objective\n",
    "                        learning_rate=.05, \n",
    "                        subsample=.8,\n",
    "                        min_child_weight=3,\n",
    "                        colsample_bytree=.8\n",
    "                       )\n",
    "\n",
    "eval_set=[(X_tr_rs, y_tr_rs),(X_val,y_val)]\n",
    "fit_model = gbm.fit( \n",
    "                    X_tr_rs, y_tr_rs, \n",
    "                    eval_set=eval_set,\n",
    "                    eval_metric='error', #new evaluation metric: classification error (could also use AUC, e.g.)\n",
    "                    early_stopping_rounds=50,\n",
    "                    verbose=False\n",
    "                   )"
   ]
  },
  {
   "cell_type": "code",
   "execution_count": 127,
   "metadata": {},
   "outputs": [
    {
     "name": "stdout",
     "output_type": "stream",
     "text": [
      "XGBoost Test Recall: 0.606, precision 0.438, F1: 0.509, Test AUC: 0.748\n"
     ]
    }
   ],
   "source": [
    "print('XGBoost Test Recall: %.3f, precision %.3f, F1: %.3f, Test AUC: %.3f' % \\\n",
    "      (recall_score(y_val, gbm.predict(X_val)), precision_score(y_val, gbm.predict(X_val)), f1_score(y_val, gbm.predict(X_val)), roc_auc_score(y_val, gbm.predict_proba(X_val)[:,1])))\n"
   ]
  },
  {
   "cell_type": "code",
   "execution_count": 128,
   "metadata": {},
   "outputs": [
    {
     "name": "stderr",
     "output_type": "stream",
     "text": [
      "/Users/brandon.mcneil/opt/anaconda3/lib/python3.8/site-packages/xgboost/sklearn.py:888: UserWarning: The use of label encoder in XGBClassifier is deprecated and will be removed in a future release. To remove this warning, do the following: 1) Pass option use_label_encoder=False when constructing XGBClassifier object; and 2) Encode your labels (y) as integers starting with 0, i.e. 0, 1, 2, ..., [num_class - 1].\n",
      "  warnings.warn(label_encoder_deprecation_msg, UserWarning)\n"
     ]
    }
   ],
   "source": [
    "import xgboost as xgb\n",
    "gbm = xgb.XGBClassifier( \n",
    "                        n_estimators=30000,\n",
    "                        max_depth=4,\n",
    "                        objective='binary:logistic', #new objective\n",
    "                        learning_rate=.05, \n",
    "                        subsample=.8,\n",
    "                        min_child_weight=3,\n",
    "                        colsample_bytree=.8\n",
    "                       )\n",
    "\n",
    "eval_set=[(X_train, y_train),(X_val,y_val)]\n",
    "fit_model = gbm.fit( \n",
    "                    X_train, y_train, \n",
    "                    eval_set=eval_set,\n",
    "                    eval_metric='error', #new evaluation metric: classification error (could also use AUC, e.g.)\n",
    "                    early_stopping_rounds=50,\n",
    "                    verbose=False\n",
    "                   )"
   ]
  },
  {
   "cell_type": "code",
   "execution_count": 129,
   "metadata": {},
   "outputs": [
    {
     "name": "stdout",
     "output_type": "stream",
     "text": [
      "XGBoost Test Recall: 0.305, precision 0.678, F1: 0.421, Test AUC: 0.737\n"
     ]
    }
   ],
   "source": [
    "print('XGBoost Test Recall: %.3f, precision %.3f, F1: %.3f, Test AUC: %.3f' % \\\n",
    "      (recall_score(y_val, gbm.predict(X_val)), precision_score(y_val, gbm.predict(X_val)), f1_score(y_val, gbm.predict(X_val)), roc_auc_score(y_val, gbm.predict_proba(X_val)[:,1])))\n"
   ]
  },
  {
   "cell_type": "code",
   "execution_count": 185,
   "metadata": {},
   "outputs": [
    {
     "name": "stdout",
     "output_type": "stream",
     "text": [
      "ROC AUC score =  0.7704712456114325\n"
     ]
    },
    {
     "data": {
      "image/png": "[encoded data removed]",
      "text/plain": [
       "<Figure size 432x288 with 1 Axes>"
      ]
     },
     "metadata": {
      "needs_background": "light"
     },
     "output_type": "display_data"
    }
   ],
   "source": [
    "from sklearn.metrics import roc_auc_score, roc_curve\n",
    "fpr, tpr, thresholds = roc_curve(y_test, r_forest.predict_proba(X_test)[:,1])\n",
    "\n",
    "plt.plot(fpr, tpr,lw=2)\n",
    "plt.plot([0,1],[0,1],c='violet',ls='--')\n",
    "plt.xlim([-0.05,1.05])\n",
    "plt.ylim([-0.05,1.05])\n",
    "\n",
    "plt.xlabel('False positive rate')\n",
    "plt.ylabel('True positive rate')\n",
    "plt.title('ROC curve')\n",
    "plt.savefig('test2png.png', dpi=100)\n",
    "print(\"ROC AUC score = \", roc_auc_score(y_test, r_forest.predict_proba(X_test)[:,1]))\n",
    "\n"
   ]
  },
  {
   "cell_type": "markdown",
   "metadata": {},
   "source": [
    "## Final Model Results"
   ]
  },
  {
   "cell_type": "code",
   "execution_count": 166,
   "metadata": {},
   "outputs": [
    {
     "name": "stdout",
     "output_type": "stream",
     "text": [
      "Random Forest Test Recall: 0.576, precision 0.462, F1: 0.513, Test AUC: 0.770\n"
     ]
    }
   ],
   "source": [
    "\n",
    "r_forest = RandomForestClassifier(n_estimators=200, max_depth=10,max_features='auto', class_weight='balanced')\n",
    "\n",
    "r_forest.fit(X, y)\n",
    "\n",
    "\n",
    "print('Random Forest Test Recall: %.3f, precision %.3f, F1: %.3f, Test AUC: %.3f' % \\\n",
    "      (recall_score(y_test, r_forest.predict(X_test)), precision_score(y_test, r_forest.predict(X_test)), f1_score(y_test, r_forest.predict(X_test)), roc_auc_score(y_test, r_forest.predict_proba(X_test)[:,1])))\n"
   ]
  },
  {
   "cell_type": "markdown",
   "metadata": {},
   "source": [
    "## Model Predictions"
   ]
  },
  {
   "cell_type": "code",
   "execution_count": 215,
   "metadata": {},
   "outputs": [
    {
     "name": "stdout",
     "output_type": "stream",
     "text": [
      "890      1\n",
      "2007     1\n",
      "3124     1\n",
      "4240     0\n",
      "5358     0\n",
      "6470     0\n",
      "7576     0\n",
      "8677     0\n",
      "9772     0\n",
      "10849    0\n",
      "11902    0\n",
      "12878    0\n",
      "Name: Target_Value, dtype: int64\n"
     ]
    },
    {
     "data": {
      "text/plain": [
       "array([[0.16352319, 0.83647681],\n",
       "       [0.90834618, 0.09165382],\n",
       "       [0.48923981, 0.51076019],\n",
       "       [0.91060015, 0.08939985],\n",
       "       [0.97272334, 0.02727666],\n",
       "       [0.57539564, 0.42460436],\n",
       "       [0.36140953, 0.63859047],\n",
       "       [0.55215632, 0.44784368],\n",
       "       [0.7782153 , 0.2217847 ],\n",
       "       [0.74931355, 0.25068645],\n",
       "       [0.75278734, 0.24721266],\n",
       "       [0.79262081, 0.20737919]])"
      ]
     },
     "execution_count": 215,
     "metadata": {},
     "output_type": "execute_result"
    }
   ],
   "source": [
    "print(y_test[16:28])\n",
    "\n",
    "\n",
    "r_forest.predict_proba(X_test[16:28])"
   ]
  },
  {
   "cell_type": "markdown",
   "metadata": {},
   "source": [
    "## Feature Importance of Final Random Forest Model"
   ]
  },
  {
   "cell_type": "code",
   "execution_count": 214,
   "metadata": {},
   "outputs": [
    {
     "data": {
      "text/plain": [
       "Text(0.5, 0, 'Random Forest Feature Importance')"
      ]
     },
     "execution_count": 214,
     "metadata": {},
     "output_type": "execute_result"
    },
    {
     "data": {
      "image/png": "[encoded data removed]",
      "text/plain": [
       "<Figure size 432x288 with 1 Axes>"
      ]
     },
     "metadata": {
      "needs_background": "light"
     },
     "output_type": "display_data"
    }
   ],
   "source": [
    "\n",
    "sorted_idx = r_forest.feature_importances_.argsort()\n",
    "plt.barh(X.columns[sorted_idx], r_forest.feature_importances_[sorted_idx])\n",
    "plt.xlabel(\"Random Forest Feature Importance\")"
   ]
  },
  {
   "cell_type": "code",
   "execution_count": 135,
   "metadata": {},
   "outputs": [
    {
     "name": "stdout",
     "output_type": "stream",
     "text": [
      "1111     1\n",
      "2228     1\n",
      "3345     1\n",
      "4461     0\n",
      "5579     0\n",
      "6691     0\n",
      "7797     0\n",
      "8898     0\n",
      "9991     0\n",
      "11069    0\n",
      "12115    0\n",
      "13076    0\n",
      "13524    0\n",
      "13907    0\n",
      "Name: Target_Value, dtype: int64\n"
     ]
    },
    {
     "data": {
      "text/plain": [
       "array([[0.41709385, 0.58290615],\n",
       "       [0.33037012, 0.66962988],\n",
       "       [0.16689323, 0.83310677],\n",
       "       [0.39521105, 0.60478895],\n",
       "       [0.32436657, 0.67563343],\n",
       "       [0.51601962, 0.48398038],\n",
       "       [0.84245219, 0.15754781],\n",
       "       [0.51878812, 0.48121188],\n",
       "       [0.66578194, 0.33421806],\n",
       "       [0.50039453, 0.49960547],\n",
       "       [0.95122595, 0.04877405],\n",
       "       [0.34408781, 0.65591219],\n",
       "       [0.92286741, 0.07713259],\n",
       "       [0.95477046, 0.04522954]])"
      ]
     },
     "execution_count": 135,
     "metadata": {},
     "output_type": "execute_result"
    }
   ],
   "source": [
    "print(y_test[-42:-28])\n",
    "\n",
    "lr_balanced.predict_proba(X_test[-42:-28])"
   ]
  }
 ],
 "metadata": {
  "kernelspec": {
   "display_name": "Python 3",
   "language": "python",
   "name": "python3"
  },
  "language_info": {
   "codemirror_mode": {
    "name": "ipython",
    "version": 3
   },
   "file_extension": ".py",
   "mimetype": "text/x-python",
   "name": "python",
   "nbconvert_exporter": "python",
   "pygments_lexer": "ipython3",
   "version": "3.8.5"
  }
 },
 "nbformat": 4,
 "nbformat_minor": 4
}
